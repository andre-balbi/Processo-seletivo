{
 "cells": [
  {
   "cell_type": "code",
   "execution_count": 1,
   "id": "3eda7872-6310-4fbb-aa56-39b480232886",
   "metadata": {},
   "outputs": [],
   "source": [
    "import pandas as pd\n",
    "import numpy as np\n",
    "import matplotlib.pyplot as plt\n",
    "import seaborn as sns"
   ]
  },
  {
   "cell_type": "markdown",
   "id": "1ed454d4-9ec6-45cc-878c-e6dc43e36284",
   "metadata": {},
   "source": [
    "1. Quantos pedidos - únicos - a loja Super Baratão teve no mês de Dezembro?\n",
    "2. Qual foi o mês com maior percentual de rejeição da loja Mercado Marisol?\n",
    "3. Quantos usuários fizeram pedidos na loja Mercado Preço Baixo no mês de Dezembro?\n",
    "4. Construa um gráfico (e compartilhe comigo!) com o total de pedidos de 2022 e 2023. O gráfico deve exibir o total de tarefas de cada loja individualmente.\n",
    "5. Identifique o % de variação de pedidos - únicos - por loja no período ano contra ano.\n",
    "\n",
    "Atenção, sabemos que o período é curto, por isso vamos combinar as regras do jogo.\n",
    "- Faça o melhor que puder com o tempo que tiver.\n",
    "- Utilize Google Planilhas para fazer o exercício.\n",
    "- Caso você tenha dúvidas sobre algum item, responda o melhor que puder com a informação que tiver.\n",
    "Muito boa sorte com o exercício! Nos falamos na sequência!"
   ]
  },
  {
   "cell_type": "code",
   "execution_count": 2,
   "id": "1a28b7e2-d50c-4137-b806-3c584b51a6b1",
   "metadata": {},
   "outputs": [],
   "source": [
    "data = pd.read_csv('data.csv'\n",
    "                 , sep=';'\n",
    "                 , index_col=0\n",
    "                 # ,error_bad_lines=False\n",
    "                 ,encoding='latin-1')"
   ]
  },
  {
   "cell_type": "code",
   "execution_count": 3,
   "id": "63ef2ece-c3c4-432d-8985-1d7b21838773",
   "metadata": {},
   "outputs": [],
   "source": [
    "# Convertendo a coluna Date Date para o formato correto\n",
    "data['Date Date'] = pd.to_datetime(data['Date Date'], infer_datetime_format=True)"
   ]
  },
  {
   "cell_type": "code",
   "execution_count": 4,
   "id": "b3151669-0d4c-4557-991a-2425cbb71d71",
   "metadata": {},
   "outputs": [],
   "source": [
    "# Criando novas colunas para o mês, dia e ano\n",
    "data[\"mes\"] = data[\"Date Date\"].dt.month\n",
    "data[\"dia\"] = data[\"Date Date\"].dt.day\n",
    "data[\"ano\"] = data[\"Date Date\"].dt.year"
   ]
  },
  {
   "cell_type": "code",
   "execution_count": 5,
   "id": "4cd3a33c-192d-48c2-9191-42dd1f956e33",
   "metadata": {},
   "outputs": [
    {
     "data": {
      "text/html": [
       "<div>\n",
       "<style scoped>\n",
       "    .dataframe tbody tr th:only-of-type {\n",
       "        vertical-align: middle;\n",
       "    }\n",
       "\n",
       "    .dataframe tbody tr th {\n",
       "        vertical-align: top;\n",
       "    }\n",
       "\n",
       "    .dataframe thead th {\n",
       "        text-align: right;\n",
       "    }\n",
       "</style>\n",
       "<table border=\"1\" class=\"dataframe\">\n",
       "  <thead>\n",
       "    <tr style=\"text-align: right;\">\n",
       "      <th></th>\n",
       "      <th>User Phone Number</th>\n",
       "      <th>Brand ID</th>\n",
       "      <th>Order Number</th>\n",
       "      <th>Submission Amount</th>\n",
       "      <th>Quantity SKU</th>\n",
       "      <th>mes</th>\n",
       "      <th>dia</th>\n",
       "      <th>ano</th>\n",
       "    </tr>\n",
       "  </thead>\n",
       "  <tbody>\n",
       "    <tr>\n",
       "      <th>count</th>\n",
       "      <td>1.193500e+04</td>\n",
       "      <td>11935.0</td>\n",
       "      <td>1.193400e+04</td>\n",
       "      <td>11935.000000</td>\n",
       "      <td>11934.000000</td>\n",
       "      <td>11935.000000</td>\n",
       "      <td>11935.000000</td>\n",
       "      <td>11935.000000</td>\n",
       "    </tr>\n",
       "    <tr>\n",
       "      <th>mean</th>\n",
       "      <td>5.571844e+12</td>\n",
       "      <td>706.0</td>\n",
       "      <td>1.128378e+06</td>\n",
       "      <td>4.353833</td>\n",
       "      <td>23.410089</td>\n",
       "      <td>6.855300</td>\n",
       "      <td>14.950649</td>\n",
       "      <td>2022.463678</td>\n",
       "    </tr>\n",
       "    <tr>\n",
       "      <th>std</th>\n",
       "      <td>3.465065e+09</td>\n",
       "      <td>0.0</td>\n",
       "      <td>4.944199e+05</td>\n",
       "      <td>0.227427</td>\n",
       "      <td>21.768725</td>\n",
       "      <td>5.001316</td>\n",
       "      <td>9.222207</td>\n",
       "      <td>0.498700</td>\n",
       "    </tr>\n",
       "    <tr>\n",
       "      <th>min</th>\n",
       "      <td>5.511934e+12</td>\n",
       "      <td>706.0</td>\n",
       "      <td>1.090000e+02</td>\n",
       "      <td>4.000000</td>\n",
       "      <td>1.000000</td>\n",
       "      <td>1.000000</td>\n",
       "      <td>1.000000</td>\n",
       "      <td>2022.000000</td>\n",
       "    </tr>\n",
       "    <tr>\n",
       "      <th>25%</th>\n",
       "      <td>5.571983e+12</td>\n",
       "      <td>706.0</td>\n",
       "      <td>1.106580e+06</td>\n",
       "      <td>4.000000</td>\n",
       "      <td>8.000000</td>\n",
       "      <td>2.000000</td>\n",
       "      <td>7.000000</td>\n",
       "      <td>2022.000000</td>\n",
       "    </tr>\n",
       "    <tr>\n",
       "      <th>50%</th>\n",
       "      <td>5.571987e+12</td>\n",
       "      <td>706.0</td>\n",
       "      <td>1.112984e+06</td>\n",
       "      <td>4.500000</td>\n",
       "      <td>18.000000</td>\n",
       "      <td>11.000000</td>\n",
       "      <td>14.000000</td>\n",
       "      <td>2022.000000</td>\n",
       "    </tr>\n",
       "    <tr>\n",
       "      <th>75%</th>\n",
       "      <td>5.571989e+12</td>\n",
       "      <td>706.0</td>\n",
       "      <td>1.119290e+06</td>\n",
       "      <td>4.500000</td>\n",
       "      <td>33.000000</td>\n",
       "      <td>12.000000</td>\n",
       "      <td>23.000000</td>\n",
       "      <td>2023.000000</td>\n",
       "    </tr>\n",
       "    <tr>\n",
       "      <th>max</th>\n",
       "      <td>5.579997e+12</td>\n",
       "      <td>706.0</td>\n",
       "      <td>1.134328e+07</td>\n",
       "      <td>4.500000</td>\n",
       "      <td>868.000000</td>\n",
       "      <td>12.000000</td>\n",
       "      <td>31.000000</td>\n",
       "      <td>2023.000000</td>\n",
       "    </tr>\n",
       "  </tbody>\n",
       "</table>\n",
       "</div>"
      ],
      "text/plain": [
       "       User Phone Number  Brand ID  Order Number  Submission Amount  \\\n",
       "count       1.193500e+04   11935.0  1.193400e+04       11935.000000   \n",
       "mean        5.571844e+12     706.0  1.128378e+06           4.353833   \n",
       "std         3.465065e+09       0.0  4.944199e+05           0.227427   \n",
       "min         5.511934e+12     706.0  1.090000e+02           4.000000   \n",
       "25%         5.571983e+12     706.0  1.106580e+06           4.000000   \n",
       "50%         5.571987e+12     706.0  1.112984e+06           4.500000   \n",
       "75%         5.571989e+12     706.0  1.119290e+06           4.500000   \n",
       "max         5.579997e+12     706.0  1.134328e+07           4.500000   \n",
       "\n",
       "       Quantity SKU           mes           dia           ano  \n",
       "count  11934.000000  11935.000000  11935.000000  11935.000000  \n",
       "mean      23.410089      6.855300     14.950649   2022.463678  \n",
       "std       21.768725      5.001316      9.222207      0.498700  \n",
       "min        1.000000      1.000000      1.000000   2022.000000  \n",
       "25%        8.000000      2.000000      7.000000   2022.000000  \n",
       "50%       18.000000     11.000000     14.000000   2022.000000  \n",
       "75%       33.000000     12.000000     23.000000   2023.000000  \n",
       "max      868.000000     12.000000     31.000000   2023.000000  "
      ]
     },
     "execution_count": 5,
     "metadata": {},
     "output_type": "execute_result"
    }
   ],
   "source": [
    "data.describe()"
   ]
  },
  {
   "cell_type": "code",
   "execution_count": 6,
   "id": "f06b5721-cc24-4070-928f-d9e1532ce235",
   "metadata": {},
   "outputs": [],
   "source": [
    "# Funcao para analise inicial dos dados\n",
    "def overview(df):\n",
    "    import missingno as msno\n",
    "    \n",
    "    # Head df\n",
    "    print('\\n','='*100, '\\n', 'head')\n",
    "    display(df.head(3))\n",
    "    \n",
    "    # Tail df\n",
    "    print('\\n','='*100, '\\n', 'tail')\n",
    "    display(df.tail(3))\n",
    "    \n",
    "    # Shape \n",
    "    print('\\n','='*100, '\\n')\n",
    "    print(f'shape: {df.shape}')\n",
    "    \n",
    "    # Colunas numéricas e categóricas\n",
    "    print('\\n','='*100, '\\n')\n",
    "    \"\"\" retorna (colunas numericas, colunas categoricas)\"\"\"\n",
    "    print(f'colunas: {df.columns} \\n')\n",
    "    cols = df.columns # Todas as colunas\n",
    "    num_cols = df._get_numeric_data().columns # Colunas numéricas\n",
    "    cat_cols =  (set(cols) - set(num_cols)) # Colunas categóricas\n",
    "    print(f'num_cols (total de {len(num_cols)}): {num_cols}\\n')\n",
    "    print(f'cat_cols (total de {len(cat_cols)}): {cat_cols} - total: {len(cat_cols)}')\n",
    "      \n",
    "    # Estatisticas   \n",
    "    print('\\n','='*100, '\\n', 'Estatísticas')\n",
    "    display(df.describe())\n",
    "    \n",
    "    print('\\n','='*100, '\\n', 'df.info()')\n",
    "    display(df.info())\n",
    "    \n",
    "    # Dados Faltantes\n",
    "    df = df.replace('', np.NaN)\n",
    "    miss_cols = df.isnull().sum()[df.isnull().sum() != 0]\n",
    "    print(f'\\nQtd. cols com NaNs: {len(miss_cols)}\\n')\n",
    "    print(miss_cols.sort_values(ascending=False))\n",
    "    msno.matrix(df)"
   ]
  },
  {
   "cell_type": "code",
   "execution_count": 7,
   "id": "2112f29d-318b-41a0-8fdb-b919eab82227",
   "metadata": {},
   "outputs": [
    {
     "name": "stdout",
     "output_type": "stream",
     "text": [
      "\n",
      " ==================================================================================================== \n",
      " head\n"
     ]
    },
    {
     "data": {
      "text/html": [
       "<div>\n",
       "<style scoped>\n",
       "    .dataframe tbody tr th:only-of-type {\n",
       "        vertical-align: middle;\n",
       "    }\n",
       "\n",
       "    .dataframe tbody tr th {\n",
       "        vertical-align: top;\n",
       "    }\n",
       "\n",
       "    .dataframe thead th {\n",
       "        text-align: right;\n",
       "    }\n",
       "</style>\n",
       "<table border=\"1\" class=\"dataframe\">\n",
       "  <thead>\n",
       "    <tr style=\"text-align: right;\">\n",
       "      <th></th>\n",
       "      <th>Date Date</th>\n",
       "      <th>User Phone Number</th>\n",
       "      <th>Brand ID</th>\n",
       "      <th>Brand Name</th>\n",
       "      <th>Store Name</th>\n",
       "      <th>Order Number</th>\n",
       "      <th>Orden revisada (Yes / No)</th>\n",
       "      <th>Orden aprobada (Yes / No)</th>\n",
       "      <th>Submission Amount</th>\n",
       "      <th>Quantity SKU</th>\n",
       "      <th>Quantity Itens</th>\n",
       "      <th>mes</th>\n",
       "      <th>dia</th>\n",
       "      <th>ano</th>\n",
       "    </tr>\n",
       "  </thead>\n",
       "  <tbody>\n",
       "    <tr>\n",
       "      <th>1</th>\n",
       "      <td>2023-02-28</td>\n",
       "      <td>5571981419571</td>\n",
       "      <td>706</td>\n",
       "      <td>Atacado e Varejo Separador</td>\n",
       "      <td>Super Baratão</td>\n",
       "      <td>1125756.0</td>\n",
       "      <td>Yes</td>\n",
       "      <td>Yes</td>\n",
       "      <td>4.5</td>\n",
       "      <td>66.0</td>\n",
       "      <td>120</td>\n",
       "      <td>2</td>\n",
       "      <td>28</td>\n",
       "      <td>2023</td>\n",
       "    </tr>\n",
       "    <tr>\n",
       "      <th>2</th>\n",
       "      <td>2023-02-28</td>\n",
       "      <td>5571981419571</td>\n",
       "      <td>706</td>\n",
       "      <td>Atacado e Varejo Separador</td>\n",
       "      <td>Super Baratão</td>\n",
       "      <td>1125785.0</td>\n",
       "      <td>Yes</td>\n",
       "      <td>Yes</td>\n",
       "      <td>4.5</td>\n",
       "      <td>35.0</td>\n",
       "      <td>71</td>\n",
       "      <td>2</td>\n",
       "      <td>28</td>\n",
       "      <td>2023</td>\n",
       "    </tr>\n",
       "    <tr>\n",
       "      <th>3</th>\n",
       "      <td>2023-02-28</td>\n",
       "      <td>5571981419571</td>\n",
       "      <td>706</td>\n",
       "      <td>Atacado e Varejo Separador</td>\n",
       "      <td>Super Baratão</td>\n",
       "      <td>1125789.0</td>\n",
       "      <td>Yes</td>\n",
       "      <td>Yes</td>\n",
       "      <td>4.5</td>\n",
       "      <td>33.0</td>\n",
       "      <td>124</td>\n",
       "      <td>2</td>\n",
       "      <td>28</td>\n",
       "      <td>2023</td>\n",
       "    </tr>\n",
       "  </tbody>\n",
       "</table>\n",
       "</div>"
      ],
      "text/plain": [
       "   Date Date  User Phone Number  Brand ID                  Brand Name  \\\n",
       "1 2023-02-28      5571981419571       706  Atacado e Varejo Separador   \n",
       "2 2023-02-28      5571981419571       706  Atacado e Varejo Separador   \n",
       "3 2023-02-28      5571981419571       706  Atacado e Varejo Separador   \n",
       "\n",
       "      Store Name  Order Number Orden revisada (Yes / No)  \\\n",
       "1  Super Baratão     1125756.0                       Yes   \n",
       "2  Super Baratão     1125785.0                       Yes   \n",
       "3  Super Baratão     1125789.0                       Yes   \n",
       "\n",
       "  Orden aprobada (Yes / No)  Submission Amount  Quantity SKU Quantity Itens  \\\n",
       "1                       Yes                4.5          66.0            120   \n",
       "2                       Yes                4.5          35.0             71   \n",
       "3                       Yes                4.5          33.0            124   \n",
       "\n",
       "   mes  dia   ano  \n",
       "1    2   28  2023  \n",
       "2    2   28  2023  \n",
       "3    2   28  2023  "
      ]
     },
     "metadata": {},
     "output_type": "display_data"
    },
    {
     "name": "stdout",
     "output_type": "stream",
     "text": [
      "\n",
      " ==================================================================================================== \n",
      " tail\n"
     ]
    },
    {
     "data": {
      "text/html": [
       "<div>\n",
       "<style scoped>\n",
       "    .dataframe tbody tr th:only-of-type {\n",
       "        vertical-align: middle;\n",
       "    }\n",
       "\n",
       "    .dataframe tbody tr th {\n",
       "        vertical-align: top;\n",
       "    }\n",
       "\n",
       "    .dataframe thead th {\n",
       "        text-align: right;\n",
       "    }\n",
       "</style>\n",
       "<table border=\"1\" class=\"dataframe\">\n",
       "  <thead>\n",
       "    <tr style=\"text-align: right;\">\n",
       "      <th></th>\n",
       "      <th>Date Date</th>\n",
       "      <th>User Phone Number</th>\n",
       "      <th>Brand ID</th>\n",
       "      <th>Brand Name</th>\n",
       "      <th>Store Name</th>\n",
       "      <th>Order Number</th>\n",
       "      <th>Orden revisada (Yes / No)</th>\n",
       "      <th>Orden aprobada (Yes / No)</th>\n",
       "      <th>Submission Amount</th>\n",
       "      <th>Quantity SKU</th>\n",
       "      <th>Quantity Itens</th>\n",
       "      <th>mes</th>\n",
       "      <th>dia</th>\n",
       "      <th>ano</th>\n",
       "    </tr>\n",
       "  </thead>\n",
       "  <tbody>\n",
       "    <tr>\n",
       "      <th>11933</th>\n",
       "      <td>2022-11-01</td>\n",
       "      <td>5579996887969</td>\n",
       "      <td>706</td>\n",
       "      <td>Atacado e Varejo Separador</td>\n",
       "      <td>Mercado Marisol</td>\n",
       "      <td>1100275.0</td>\n",
       "      <td>Yes</td>\n",
       "      <td>Yes</td>\n",
       "      <td>4.0</td>\n",
       "      <td>46.0</td>\n",
       "      <td>68</td>\n",
       "      <td>11</td>\n",
       "      <td>1</td>\n",
       "      <td>2022</td>\n",
       "    </tr>\n",
       "    <tr>\n",
       "      <th>11934</th>\n",
       "      <td>2022-11-01</td>\n",
       "      <td>5579996887969</td>\n",
       "      <td>706</td>\n",
       "      <td>Atacado e Varejo Separador</td>\n",
       "      <td>Mercado Marisol</td>\n",
       "      <td>1101126.0</td>\n",
       "      <td>Yes</td>\n",
       "      <td>Yes</td>\n",
       "      <td>4.0</td>\n",
       "      <td>1.0</td>\n",
       "      <td>10</td>\n",
       "      <td>11</td>\n",
       "      <td>1</td>\n",
       "      <td>2022</td>\n",
       "    </tr>\n",
       "    <tr>\n",
       "      <th>11935</th>\n",
       "      <td>2022-11-01</td>\n",
       "      <td>5579996887969</td>\n",
       "      <td>706</td>\n",
       "      <td>Atacado e Varejo Separador</td>\n",
       "      <td>Mercado Marisol</td>\n",
       "      <td>1101193.0</td>\n",
       "      <td>Yes</td>\n",
       "      <td>Yes</td>\n",
       "      <td>4.0</td>\n",
       "      <td>19.0</td>\n",
       "      <td>38</td>\n",
       "      <td>11</td>\n",
       "      <td>1</td>\n",
       "      <td>2022</td>\n",
       "    </tr>\n",
       "  </tbody>\n",
       "</table>\n",
       "</div>"
      ],
      "text/plain": [
       "       Date Date  User Phone Number  Brand ID                  Brand Name  \\\n",
       "11933 2022-11-01      5579996887969       706  Atacado e Varejo Separador   \n",
       "11934 2022-11-01      5579996887969       706  Atacado e Varejo Separador   \n",
       "11935 2022-11-01      5579996887969       706  Atacado e Varejo Separador   \n",
       "\n",
       "            Store Name  Order Number Orden revisada (Yes / No)  \\\n",
       "11933  Mercado Marisol     1100275.0                       Yes   \n",
       "11934  Mercado Marisol     1101126.0                       Yes   \n",
       "11935  Mercado Marisol     1101193.0                       Yes   \n",
       "\n",
       "      Orden aprobada (Yes / No)  Submission Amount  Quantity SKU  \\\n",
       "11933                       Yes                4.0          46.0   \n",
       "11934                       Yes                4.0           1.0   \n",
       "11935                       Yes                4.0          19.0   \n",
       "\n",
       "      Quantity Itens  mes  dia   ano  \n",
       "11933             68   11    1  2022  \n",
       "11934             10   11    1  2022  \n",
       "11935             38   11    1  2022  "
      ]
     },
     "metadata": {},
     "output_type": "display_data"
    },
    {
     "name": "stdout",
     "output_type": "stream",
     "text": [
      "\n",
      " ==================================================================================================== \n",
      "\n",
      "shape: (11935, 14)\n",
      "\n",
      " ==================================================================================================== \n",
      "\n",
      "colunas: Index(['Date Date', 'User Phone Number', 'Brand ID', 'Brand Name',\n",
      "       'Store Name', 'Order Number', 'Orden revisada (Yes / No)',\n",
      "       'Orden aprobada (Yes / No)', 'Submission Amount', 'Quantity SKU',\n",
      "       'Quantity Itens', 'mes', 'dia', 'ano'],\n",
      "      dtype='object') \n",
      "\n",
      "num_cols (total de 8): Index(['User Phone Number', 'Brand ID', 'Order Number', 'Submission Amount',\n",
      "       'Quantity SKU', 'mes', 'dia', 'ano'],\n",
      "      dtype='object')\n",
      "\n",
      "cat_cols (total de 6): {'Store Name', 'Orden revisada (Yes / No)', 'Date Date', 'Orden aprobada (Yes / No)', 'Brand Name', 'Quantity Itens'} - total: 6\n",
      "\n",
      " ==================================================================================================== \n",
      " Estatísticas\n"
     ]
    },
    {
     "data": {
      "text/html": [
       "<div>\n",
       "<style scoped>\n",
       "    .dataframe tbody tr th:only-of-type {\n",
       "        vertical-align: middle;\n",
       "    }\n",
       "\n",
       "    .dataframe tbody tr th {\n",
       "        vertical-align: top;\n",
       "    }\n",
       "\n",
       "    .dataframe thead th {\n",
       "        text-align: right;\n",
       "    }\n",
       "</style>\n",
       "<table border=\"1\" class=\"dataframe\">\n",
       "  <thead>\n",
       "    <tr style=\"text-align: right;\">\n",
       "      <th></th>\n",
       "      <th>User Phone Number</th>\n",
       "      <th>Brand ID</th>\n",
       "      <th>Order Number</th>\n",
       "      <th>Submission Amount</th>\n",
       "      <th>Quantity SKU</th>\n",
       "      <th>mes</th>\n",
       "      <th>dia</th>\n",
       "      <th>ano</th>\n",
       "    </tr>\n",
       "  </thead>\n",
       "  <tbody>\n",
       "    <tr>\n",
       "      <th>count</th>\n",
       "      <td>1.193500e+04</td>\n",
       "      <td>11935.0</td>\n",
       "      <td>1.193400e+04</td>\n",
       "      <td>11935.000000</td>\n",
       "      <td>11934.000000</td>\n",
       "      <td>11935.000000</td>\n",
       "      <td>11935.000000</td>\n",
       "      <td>11935.000000</td>\n",
       "    </tr>\n",
       "    <tr>\n",
       "      <th>mean</th>\n",
       "      <td>5.571844e+12</td>\n",
       "      <td>706.0</td>\n",
       "      <td>1.128378e+06</td>\n",
       "      <td>4.353833</td>\n",
       "      <td>23.410089</td>\n",
       "      <td>6.855300</td>\n",
       "      <td>14.950649</td>\n",
       "      <td>2022.463678</td>\n",
       "    </tr>\n",
       "    <tr>\n",
       "      <th>std</th>\n",
       "      <td>3.465065e+09</td>\n",
       "      <td>0.0</td>\n",
       "      <td>4.944199e+05</td>\n",
       "      <td>0.227427</td>\n",
       "      <td>21.768725</td>\n",
       "      <td>5.001316</td>\n",
       "      <td>9.222207</td>\n",
       "      <td>0.498700</td>\n",
       "    </tr>\n",
       "    <tr>\n",
       "      <th>min</th>\n",
       "      <td>5.511934e+12</td>\n",
       "      <td>706.0</td>\n",
       "      <td>1.090000e+02</td>\n",
       "      <td>4.000000</td>\n",
       "      <td>1.000000</td>\n",
       "      <td>1.000000</td>\n",
       "      <td>1.000000</td>\n",
       "      <td>2022.000000</td>\n",
       "    </tr>\n",
       "    <tr>\n",
       "      <th>25%</th>\n",
       "      <td>5.571983e+12</td>\n",
       "      <td>706.0</td>\n",
       "      <td>1.106580e+06</td>\n",
       "      <td>4.000000</td>\n",
       "      <td>8.000000</td>\n",
       "      <td>2.000000</td>\n",
       "      <td>7.000000</td>\n",
       "      <td>2022.000000</td>\n",
       "    </tr>\n",
       "    <tr>\n",
       "      <th>50%</th>\n",
       "      <td>5.571987e+12</td>\n",
       "      <td>706.0</td>\n",
       "      <td>1.112984e+06</td>\n",
       "      <td>4.500000</td>\n",
       "      <td>18.000000</td>\n",
       "      <td>11.000000</td>\n",
       "      <td>14.000000</td>\n",
       "      <td>2022.000000</td>\n",
       "    </tr>\n",
       "    <tr>\n",
       "      <th>75%</th>\n",
       "      <td>5.571989e+12</td>\n",
       "      <td>706.0</td>\n",
       "      <td>1.119290e+06</td>\n",
       "      <td>4.500000</td>\n",
       "      <td>33.000000</td>\n",
       "      <td>12.000000</td>\n",
       "      <td>23.000000</td>\n",
       "      <td>2023.000000</td>\n",
       "    </tr>\n",
       "    <tr>\n",
       "      <th>max</th>\n",
       "      <td>5.579997e+12</td>\n",
       "      <td>706.0</td>\n",
       "      <td>1.134328e+07</td>\n",
       "      <td>4.500000</td>\n",
       "      <td>868.000000</td>\n",
       "      <td>12.000000</td>\n",
       "      <td>31.000000</td>\n",
       "      <td>2023.000000</td>\n",
       "    </tr>\n",
       "  </tbody>\n",
       "</table>\n",
       "</div>"
      ],
      "text/plain": [
       "       User Phone Number  Brand ID  Order Number  Submission Amount  \\\n",
       "count       1.193500e+04   11935.0  1.193400e+04       11935.000000   \n",
       "mean        5.571844e+12     706.0  1.128378e+06           4.353833   \n",
       "std         3.465065e+09       0.0  4.944199e+05           0.227427   \n",
       "min         5.511934e+12     706.0  1.090000e+02           4.000000   \n",
       "25%         5.571983e+12     706.0  1.106580e+06           4.000000   \n",
       "50%         5.571987e+12     706.0  1.112984e+06           4.500000   \n",
       "75%         5.571989e+12     706.0  1.119290e+06           4.500000   \n",
       "max         5.579997e+12     706.0  1.134328e+07           4.500000   \n",
       "\n",
       "       Quantity SKU           mes           dia           ano  \n",
       "count  11934.000000  11935.000000  11935.000000  11935.000000  \n",
       "mean      23.410089      6.855300     14.950649   2022.463678  \n",
       "std       21.768725      5.001316      9.222207      0.498700  \n",
       "min        1.000000      1.000000      1.000000   2022.000000  \n",
       "25%        8.000000      2.000000      7.000000   2022.000000  \n",
       "50%       18.000000     11.000000     14.000000   2022.000000  \n",
       "75%       33.000000     12.000000     23.000000   2023.000000  \n",
       "max      868.000000     12.000000     31.000000   2023.000000  "
      ]
     },
     "metadata": {},
     "output_type": "display_data"
    },
    {
     "name": "stdout",
     "output_type": "stream",
     "text": [
      "\n",
      " ==================================================================================================== \n",
      " df.info()\n",
      "<class 'pandas.core.frame.DataFrame'>\n",
      "Int64Index: 11935 entries, 1 to 11935\n",
      "Data columns (total 14 columns):\n",
      " #   Column                     Non-Null Count  Dtype         \n",
      "---  ------                     --------------  -----         \n",
      " 0   Date Date                  11935 non-null  datetime64[ns]\n",
      " 1   User Phone Number          11935 non-null  int64         \n",
      " 2   Brand ID                   11935 non-null  int64         \n",
      " 3   Brand Name                 11935 non-null  object        \n",
      " 4   Store Name                 11935 non-null  object        \n",
      " 5   Order Number               11934 non-null  float64       \n",
      " 6   Orden revisada (Yes / No)  11935 non-null  object        \n",
      " 7   Orden aprobada (Yes / No)  11935 non-null  object        \n",
      " 8   Submission Amount          11935 non-null  float64       \n",
      " 9   Quantity SKU               11934 non-null  float64       \n",
      " 10  Quantity Itens             11934 non-null  object        \n",
      " 11  mes                        11935 non-null  int64         \n",
      " 12  dia                        11935 non-null  int64         \n",
      " 13  ano                        11935 non-null  int64         \n",
      "dtypes: datetime64[ns](1), float64(3), int64(5), object(5)\n",
      "memory usage: 1.4+ MB\n"
     ]
    },
    {
     "data": {
      "text/plain": [
       "None"
      ]
     },
     "metadata": {},
     "output_type": "display_data"
    },
    {
     "name": "stdout",
     "output_type": "stream",
     "text": [
      "\n",
      "Qtd. cols com NaNs: 3\n",
      "\n",
      "Order Number      1\n",
      "Quantity SKU      1\n",
      "Quantity Itens    1\n",
      "dtype: int64\n"
     ]
    },
    {
     "data": {
      "image/png": "[encoded data removed]",
      "text/plain": [
       "<Figure size 2500x1000 with 2 Axes>"
      ]
     },
     "metadata": {},
     "output_type": "display_data"
    }
   ],
   "source": [
    "overview(data)"
   ]
  },
  {
   "cell_type": "code",
   "execution_count": 8,
   "id": "1f1a24d5-364b-4f15-bfe7-a4dfa5ad0b15",
   "metadata": {},
   "outputs": [],
   "source": [
    "# Transformando a coluna data para datetime\n",
    "data['Date Date'] = pd.to_datetime(data['Date Date'], infer_datetime_format=True)"
   ]
  },
  {
   "cell_type": "code",
   "execution_count": 9,
   "id": "0a1253f7-e367-4b48-a78e-bc90078ba4ec",
   "metadata": {},
   "outputs": [
    {
     "data": {
      "text/plain": [
       "287"
      ]
     },
     "execution_count": 9,
     "metadata": {},
     "output_type": "execute_result"
    }
   ],
   "source": [
    "# Dados duplicados\n",
    "data.duplicated().sum()"
   ]
  },
  {
   "cell_type": "code",
   "execution_count": 10,
   "id": "12194644-4ee9-42a2-95b9-49e087b58f40",
   "metadata": {},
   "outputs": [
    {
     "data": {
      "text/plain": [
       "0"
      ]
     },
     "execution_count": 10,
     "metadata": {},
     "output_type": "execute_result"
    }
   ],
   "source": [
    "# Deletando dados duplicados\n",
    "data = data.drop_duplicates()\n",
    "data.duplicated().sum()"
   ]
  },
  {
   "cell_type": "markdown",
   "id": "81357462-a967-46a3-938e-2aafa7335e2e",
   "metadata": {},
   "source": [
    "# 1. Quantos pedidos - únicos - a loja Super Baratão teve no mês de Dezembro?"
   ]
  },
  {
   "cell_type": "code",
   "execution_count": 11,
   "id": "1c3a5607-7859-4404-9f6d-b97d6185f191",
   "metadata": {},
   "outputs": [
    {
     "data": {
      "text/html": [
       "<div>\n",
       "<style scoped>\n",
       "    .dataframe tbody tr th:only-of-type {\n",
       "        vertical-align: middle;\n",
       "    }\n",
       "\n",
       "    .dataframe tbody tr th {\n",
       "        vertical-align: top;\n",
       "    }\n",
       "\n",
       "    .dataframe thead th {\n",
       "        text-align: right;\n",
       "    }\n",
       "</style>\n",
       "<table border=\"1\" class=\"dataframe\">\n",
       "  <thead>\n",
       "    <tr style=\"text-align: right;\">\n",
       "      <th></th>\n",
       "      <th>Date Date</th>\n",
       "      <th>User Phone Number</th>\n",
       "      <th>Brand ID</th>\n",
       "      <th>Brand Name</th>\n",
       "      <th>Store Name</th>\n",
       "      <th>Order Number</th>\n",
       "      <th>Orden revisada (Yes / No)</th>\n",
       "      <th>Orden aprobada (Yes / No)</th>\n",
       "      <th>Submission Amount</th>\n",
       "      <th>Quantity SKU</th>\n",
       "      <th>Quantity Itens</th>\n",
       "      <th>mes</th>\n",
       "      <th>dia</th>\n",
       "      <th>ano</th>\n",
       "    </tr>\n",
       "  </thead>\n",
       "  <tbody>\n",
       "    <tr>\n",
       "      <th>5535</th>\n",
       "      <td>2022-12-31</td>\n",
       "      <td>5547991501262</td>\n",
       "      <td>706</td>\n",
       "      <td>Atacado e Varejo Separador</td>\n",
       "      <td>Super Baratão</td>\n",
       "      <td>1113805.0</td>\n",
       "      <td>Yes</td>\n",
       "      <td>Yes</td>\n",
       "      <td>4.5</td>\n",
       "      <td>48.0</td>\n",
       "      <td>123</td>\n",
       "      <td>12</td>\n",
       "      <td>31</td>\n",
       "      <td>2022</td>\n",
       "    </tr>\n",
       "    <tr>\n",
       "      <th>5536</th>\n",
       "      <td>2022-12-31</td>\n",
       "      <td>5547991501262</td>\n",
       "      <td>706</td>\n",
       "      <td>Atacado e Varejo Separador</td>\n",
       "      <td>Super Baratão</td>\n",
       "      <td>1113816.0</td>\n",
       "      <td>Yes</td>\n",
       "      <td>No</td>\n",
       "      <td>4.5</td>\n",
       "      <td>62.0</td>\n",
       "      <td>128</td>\n",
       "      <td>12</td>\n",
       "      <td>31</td>\n",
       "      <td>2022</td>\n",
       "    </tr>\n",
       "  </tbody>\n",
       "</table>\n",
       "</div>"
      ],
      "text/plain": [
       "      Date Date  User Phone Number  Brand ID                  Brand Name  \\\n",
       "5535 2022-12-31      5547991501262       706  Atacado e Varejo Separador   \n",
       "5536 2022-12-31      5547991501262       706  Atacado e Varejo Separador   \n",
       "\n",
       "         Store Name  Order Number Orden revisada (Yes / No)  \\\n",
       "5535  Super Baratão     1113805.0                       Yes   \n",
       "5536  Super Baratão     1113816.0                       Yes   \n",
       "\n",
       "     Orden aprobada (Yes / No)  Submission Amount  Quantity SKU  \\\n",
       "5535                       Yes                4.5          48.0   \n",
       "5536                        No                4.5          62.0   \n",
       "\n",
       "     Quantity Itens  mes  dia   ano  \n",
       "5535            123   12   31  2022  \n",
       "5536            128   12   31  2022  "
      ]
     },
     "execution_count": 11,
     "metadata": {},
     "output_type": "execute_result"
    }
   ],
   "source": [
    "# filtrar os dados para manter somente os pedidos em fevereiro na loja \"Super Baratão\"\n",
    "feb_orders = data[(data['mes'] == 12) & (data['Store Name'] == 'Super Baratão')]\n",
    "feb_orders.head(2)"
   ]
  },
  {
   "cell_type": "code",
   "execution_count": 12,
   "id": "48f6ffe9-1a59-4d55-9328-a8d75164317e",
   "metadata": {},
   "outputs": [
    {
     "name": "stdout",
     "output_type": "stream",
     "text": [
      "A loja Super Baratão teve 1448 pedidos únicos em fevereiro.\n"
     ]
    }
   ],
   "source": [
    "# contar quantos pedidos únicos existem\n",
    "unique_orders = feb_orders['Order Number'].nunique()\n",
    "\n",
    "print(f\"A loja Super Baratão teve {unique_orders} pedidos únicos em fevereiro.\")"
   ]
  },
  {
   "cell_type": "markdown",
   "id": "c0d7c021-85e3-4f70-8bc8-6db461e38b15",
   "metadata": {},
   "source": [
    "# 2. Qual foi o mês com maior percentual de rejeição da loja Mercado Marisol?"
   ]
  },
  {
   "cell_type": "code",
   "execution_count": 13,
   "id": "2d424bc3-86cb-48cc-9d66-4fc3e5b75bff",
   "metadata": {},
   "outputs": [
    {
     "data": {
      "text/html": [
       "<div>\n",
       "<style scoped>\n",
       "    .dataframe tbody tr th:only-of-type {\n",
       "        vertical-align: middle;\n",
       "    }\n",
       "\n",
       "    .dataframe tbody tr th {\n",
       "        vertical-align: top;\n",
       "    }\n",
       "\n",
       "    .dataframe thead th {\n",
       "        text-align: right;\n",
       "    }\n",
       "</style>\n",
       "<table border=\"1\" class=\"dataframe\">\n",
       "  <thead>\n",
       "    <tr style=\"text-align: right;\">\n",
       "      <th></th>\n",
       "      <th>Date Date</th>\n",
       "      <th>User Phone Number</th>\n",
       "      <th>Brand ID</th>\n",
       "      <th>Brand Name</th>\n",
       "      <th>Store Name</th>\n",
       "      <th>Order Number</th>\n",
       "      <th>Orden revisada (Yes / No)</th>\n",
       "      <th>Orden aprobada (Yes / No)</th>\n",
       "      <th>Submission Amount</th>\n",
       "      <th>Quantity SKU</th>\n",
       "      <th>Quantity Itens</th>\n",
       "      <th>mes</th>\n",
       "      <th>dia</th>\n",
       "      <th>ano</th>\n",
       "    </tr>\n",
       "  </thead>\n",
       "  <tbody>\n",
       "    <tr>\n",
       "      <th>103</th>\n",
       "      <td>2023-02-28</td>\n",
       "      <td>5571987430998</td>\n",
       "      <td>706</td>\n",
       "      <td>Atacado e Varejo Separador</td>\n",
       "      <td>Mercado Marisol</td>\n",
       "      <td>1124477.0</td>\n",
       "      <td>Yes</td>\n",
       "      <td>Yes</td>\n",
       "      <td>4.5</td>\n",
       "      <td>10.0</td>\n",
       "      <td>23</td>\n",
       "      <td>2</td>\n",
       "      <td>28</td>\n",
       "      <td>2023</td>\n",
       "    </tr>\n",
       "    <tr>\n",
       "      <th>104</th>\n",
       "      <td>2023-02-28</td>\n",
       "      <td>5571987430998</td>\n",
       "      <td>706</td>\n",
       "      <td>Atacado e Varejo Separador</td>\n",
       "      <td>Mercado Marisol</td>\n",
       "      <td>1125483.0</td>\n",
       "      <td>Yes</td>\n",
       "      <td>Yes</td>\n",
       "      <td>4.5</td>\n",
       "      <td>27.0</td>\n",
       "      <td>115</td>\n",
       "      <td>2</td>\n",
       "      <td>28</td>\n",
       "      <td>2023</td>\n",
       "    </tr>\n",
       "  </tbody>\n",
       "</table>\n",
       "</div>"
      ],
      "text/plain": [
       "     Date Date  User Phone Number  Brand ID                  Brand Name  \\\n",
       "103 2023-02-28      5571987430998       706  Atacado e Varejo Separador   \n",
       "104 2023-02-28      5571987430998       706  Atacado e Varejo Separador   \n",
       "\n",
       "          Store Name  Order Number Orden revisada (Yes / No)  \\\n",
       "103  Mercado Marisol     1124477.0                       Yes   \n",
       "104  Mercado Marisol     1125483.0                       Yes   \n",
       "\n",
       "    Orden aprobada (Yes / No)  Submission Amount  Quantity SKU Quantity Itens  \\\n",
       "103                       Yes                4.5          10.0             23   \n",
       "104                       Yes                4.5          27.0            115   \n",
       "\n",
       "     mes  dia   ano  \n",
       "103    2   28  2023  \n",
       "104    2   28  2023  "
      ]
     },
     "execution_count": 13,
     "metadata": {},
     "output_type": "execute_result"
    }
   ],
   "source": [
    "# Selecionando os dados do Mercado Marisol\n",
    "mari_data = data[data['Store Name'] == 'Mercado Marisol']\n",
    "mari_data.head(2)"
   ]
  },
  {
   "cell_type": "code",
   "execution_count": 14,
   "id": "818b1e89-3cd5-464b-a2f8-f297372baaa1",
   "metadata": {},
   "outputs": [
    {
     "data": {
      "text/plain": [
       "mes\n",
       "1     523\n",
       "2     595\n",
       "11    602\n",
       "12    568\n",
       "Name: Orden aprobada (Yes / No), dtype: int64"
      ]
     },
     "execution_count": 14,
     "metadata": {},
     "output_type": "execute_result"
    }
   ],
   "source": [
    "# Encontrando o total de ordens agrupadas por mes\n",
    "tot = mari_data[['mes', 'Orden aprobada (Yes / No)']].groupby(by='mes').count()\n",
    "tot = tot.squeeze() # Pandas to series\n",
    "\n",
    "tot"
   ]
  },
  {
   "cell_type": "code",
   "execution_count": 15,
   "id": "13e5451a-50fd-48e9-a15f-74c06ea634b0",
   "metadata": {},
   "outputs": [
    {
     "data": {
      "text/plain": [
       "mes\n",
       "1     509\n",
       "2     578\n",
       "11    551\n",
       "12    563\n",
       "Name: Orden aprobada (Yes / No), dtype: int64"
      ]
     },
     "execution_count": 15,
     "metadata": {},
     "output_type": "execute_result"
    }
   ],
   "source": [
    "# Filtrando apenas as ordens aprovadas e agrupadas por mes\n",
    "aprov = mari_data[mari_data['Orden aprobada (Yes / No)'] == 'Yes'].groupby('mes').count()['Orden aprobada (Yes / No)']\n",
    "aprov"
   ]
  },
  {
   "cell_type": "code",
   "execution_count": 16,
   "id": "2a07a274-8314-4eab-8350-85e8930ab76d",
   "metadata": {},
   "outputs": [
    {
     "data": {
      "text/plain": [
       "mes\n",
       "12    0.991197\n",
       "Name: Orden aprobada (Yes / No), dtype: float64"
      ]
     },
     "execution_count": 16,
     "metadata": {},
     "output_type": "execute_result"
    }
   ],
   "source": [
    "# Encontrando o percentual de ordens aprovadas\n",
    "top_aprob = (aprov / tot).sort_values(ascending=False).head(1)\n",
    "top_aprob"
   ]
  },
  {
   "cell_type": "code",
   "execution_count": 17,
   "id": "0a2aef5b-1cf3-436e-b0b3-94bbe41c09e1",
   "metadata": {},
   "outputs": [
    {
     "name": "stdout",
     "output_type": "stream",
     "text": [
      "O mes com maior percentual de aprovacao foi o 12 com 99.12 %.\n"
     ]
    }
   ],
   "source": [
    "print(f\"O mes com maior percentual de aprovacao foi o {top_aprob.index[0]} com {round(top_aprob.values[0] * 100, 2)} %.\")"
   ]
  },
  {
   "cell_type": "markdown",
   "id": "ca514b75-9f3d-40da-87a8-7ff57765d495",
   "metadata": {},
   "source": [
    "# 3. Quantos usuários fizeram pedidos na loja Mercado Preço Baixo no mês de Dezembro?"
   ]
  },
  {
   "cell_type": "code",
   "execution_count": 18,
   "id": "d10da810-f29e-4059-9918-d7fe70813fa8",
   "metadata": {},
   "outputs": [
    {
     "data": {
      "text/html": [
       "<div>\n",
       "<style scoped>\n",
       "    .dataframe tbody tr th:only-of-type {\n",
       "        vertical-align: middle;\n",
       "    }\n",
       "\n",
       "    .dataframe tbody tr th {\n",
       "        vertical-align: top;\n",
       "    }\n",
       "\n",
       "    .dataframe thead th {\n",
       "        text-align: right;\n",
       "    }\n",
       "</style>\n",
       "<table border=\"1\" class=\"dataframe\">\n",
       "  <thead>\n",
       "    <tr style=\"text-align: right;\">\n",
       "      <th></th>\n",
       "      <th>Date Date</th>\n",
       "      <th>User Phone Number</th>\n",
       "      <th>Brand ID</th>\n",
       "      <th>Brand Name</th>\n",
       "      <th>Store Name</th>\n",
       "      <th>Order Number</th>\n",
       "      <th>Orden revisada (Yes / No)</th>\n",
       "      <th>Orden aprobada (Yes / No)</th>\n",
       "      <th>Submission Amount</th>\n",
       "      <th>Quantity SKU</th>\n",
       "      <th>Quantity Itens</th>\n",
       "      <th>mes</th>\n",
       "      <th>dia</th>\n",
       "      <th>ano</th>\n",
       "    </tr>\n",
       "  </thead>\n",
       "  <tbody>\n",
       "    <tr>\n",
       "      <th>5560</th>\n",
       "      <td>2022-12-31</td>\n",
       "      <td>5571982653062</td>\n",
       "      <td>706</td>\n",
       "      <td>Atacado e Varejo Separador</td>\n",
       "      <td>Mercado Preço Baixo</td>\n",
       "      <td>1113964.0</td>\n",
       "      <td>Yes</td>\n",
       "      <td>No</td>\n",
       "      <td>4.5</td>\n",
       "      <td>14.0</td>\n",
       "      <td>20</td>\n",
       "      <td>12</td>\n",
       "      <td>31</td>\n",
       "      <td>2022</td>\n",
       "    </tr>\n",
       "    <tr>\n",
       "      <th>5561</th>\n",
       "      <td>2022-12-31</td>\n",
       "      <td>5571982653062</td>\n",
       "      <td>706</td>\n",
       "      <td>Atacado e Varejo Separador</td>\n",
       "      <td>Mercado Preço Baixo</td>\n",
       "      <td>1113972.0</td>\n",
       "      <td>Yes</td>\n",
       "      <td>No</td>\n",
       "      <td>4.5</td>\n",
       "      <td>2.0</td>\n",
       "      <td>2</td>\n",
       "      <td>12</td>\n",
       "      <td>31</td>\n",
       "      <td>2022</td>\n",
       "    </tr>\n",
       "  </tbody>\n",
       "</table>\n",
       "</div>"
      ],
      "text/plain": [
       "      Date Date  User Phone Number  Brand ID                  Brand Name  \\\n",
       "5560 2022-12-31      5571982653062       706  Atacado e Varejo Separador   \n",
       "5561 2022-12-31      5571982653062       706  Atacado e Varejo Separador   \n",
       "\n",
       "               Store Name  Order Number Orden revisada (Yes / No)  \\\n",
       "5560  Mercado Preço Baixo     1113964.0                       Yes   \n",
       "5561  Mercado Preço Baixo     1113972.0                       Yes   \n",
       "\n",
       "     Orden aprobada (Yes / No)  Submission Amount  Quantity SKU  \\\n",
       "5560                        No                4.5          14.0   \n",
       "5561                        No                4.5           2.0   \n",
       "\n",
       "     Quantity Itens  mes  dia   ano  \n",
       "5560             20   12   31  2022  \n",
       "5561              2   12   31  2022  "
      ]
     },
     "execution_count": 18,
     "metadata": {},
     "output_type": "execute_result"
    }
   ],
   "source": [
    "# Selecionando os dados do Mercado Preço Baixo no mes de Dezembrop (12)\n",
    "pb_data = data[(data['mes'] == 12) & (data['Store Name'] == 'Mercado Preço Baixo')]\n",
    "pb_data.head(2)"
   ]
  },
  {
   "cell_type": "code",
   "execution_count": 19,
   "id": "14d36611-0b94-4a8c-ba86-edf7e577cc71",
   "metadata": {},
   "outputs": [
    {
     "data": {
      "text/plain": [
       "12"
      ]
     },
     "execution_count": 19,
     "metadata": {},
     "output_type": "execute_result"
    }
   ],
   "source": [
    "# Utilizando o numero de telefone para identificar cada usuario\n",
    "dez_users = pb_data['User Phone Number'].nunique()\n",
    "dez_users"
   ]
  },
  {
   "cell_type": "code",
   "execution_count": 20,
   "id": "02becd6c-4294-4e9d-a3db-b1eceb4d0d3b",
   "metadata": {},
   "outputs": [
    {
     "name": "stdout",
     "output_type": "stream",
     "text": [
      "O total de usuários que fizeram pedidos na loja Mercado Preço Baixo no mês de Dezembro foi de 12\n"
     ]
    }
   ],
   "source": [
    "print(f\"O total de usuários que fizeram pedidos na loja Mercado Preço Baixo no mês de Dezembro foi de {dez_users}\")"
   ]
  },
  {
   "cell_type": "markdown",
   "id": "b0955db4-f570-4831-85c4-1089dbd3b380",
   "metadata": {},
   "source": [
    "# 4. Construa um gráfico (e compartilhe comigo!) com o total de pedidos de 2022 e 2023. O gráfico deve exibir o total de tarefas de cada loja individualmente."
   ]
  },
  {
   "cell_type": "code",
   "execution_count": 21,
   "id": "53378bd5-f376-4d09-b4d3-bf490c4ffd34",
   "metadata": {},
   "outputs": [
    {
     "data": {
      "text/html": [
       "<div>\n",
       "<style scoped>\n",
       "    .dataframe tbody tr th:only-of-type {\n",
       "        vertical-align: middle;\n",
       "    }\n",
       "\n",
       "    .dataframe tbody tr th {\n",
       "        vertical-align: top;\n",
       "    }\n",
       "\n",
       "    .dataframe thead th {\n",
       "        text-align: right;\n",
       "    }\n",
       "</style>\n",
       "<table border=\"1\" class=\"dataframe\">\n",
       "  <thead>\n",
       "    <tr style=\"text-align: right;\">\n",
       "      <th></th>\n",
       "      <th>Store Name</th>\n",
       "      <th>ano</th>\n",
       "      <th>Order Number</th>\n",
       "    </tr>\n",
       "  </thead>\n",
       "  <tbody>\n",
       "    <tr>\n",
       "      <th>0</th>\n",
       "      <td>Mercado Marisol</td>\n",
       "      <td>2022</td>\n",
       "      <td>1170</td>\n",
       "    </tr>\n",
       "    <tr>\n",
       "      <th>1</th>\n",
       "      <td>Mercado Marisol</td>\n",
       "      <td>2023</td>\n",
       "      <td>1118</td>\n",
       "    </tr>\n",
       "    <tr>\n",
       "      <th>2</th>\n",
       "      <td>Mercado Preço Baixo</td>\n",
       "      <td>2022</td>\n",
       "      <td>1988</td>\n",
       "    </tr>\n",
       "    <tr>\n",
       "      <th>3</th>\n",
       "      <td>Mercado Preço Baixo</td>\n",
       "      <td>2023</td>\n",
       "      <td>1677</td>\n",
       "    </tr>\n",
       "    <tr>\n",
       "      <th>4</th>\n",
       "      <td>Super Baratão</td>\n",
       "      <td>2022</td>\n",
       "      <td>3015</td>\n",
       "    </tr>\n",
       "    <tr>\n",
       "      <th>5</th>\n",
       "      <td>Super Baratão</td>\n",
       "      <td>2023</td>\n",
       "      <td>2679</td>\n",
       "    </tr>\n",
       "  </tbody>\n",
       "</table>\n",
       "</div>"
      ],
      "text/plain": [
       "            Store Name   ano  Order Number\n",
       "0      Mercado Marisol  2022          1170\n",
       "1      Mercado Marisol  2023          1118\n",
       "2  Mercado Preço Baixo  2022          1988\n",
       "3  Mercado Preço Baixo  2023          1677\n",
       "4        Super Baratão  2022          3015\n",
       "5        Super Baratão  2023          2679"
      ]
     },
     "execution_count": 21,
     "metadata": {},
     "output_type": "execute_result"
    }
   ],
   "source": [
    "tot_orders = data.groupby(by=['Store Name', 'ano']).count()['Order Number'].reset_index()\n",
    "tot_orders"
   ]
  },
  {
   "cell_type": "code",
   "execution_count": 22,
   "id": "3ffd4785-7c75-4300-89c3-f330d5e5665f",
   "metadata": {},
   "outputs": [
    {
     "data": {
      "image/png": "[encoded data removed]",
      "text/plain": [
       "<Figure size 640x480 with 1 Axes>"
      ]
     },
     "metadata": {},
     "output_type": "display_data"
    }
   ],
   "source": [
    "sns.barplot(x = 'ano', y='Order Number', hue='Store Name', data = tot_orders)\n",
    "plt.ylabel('Total de Ordens')\n",
    "plt.xlabel('Ano')\n",
    "plt.show()"
   ]
  },
  {
   "cell_type": "markdown",
   "id": "9382ce20-69ec-4c4e-9c2e-789f5107fb10",
   "metadata": {},
   "source": [
    "# 5. Identifique o % de variação de pedidos - únicos - por loja no período ano contra ano."
   ]
  },
  {
   "cell_type": "code",
   "execution_count": 23,
   "id": "a7d59413-f74a-4571-b9e1-047b751f9345",
   "metadata": {},
   "outputs": [
    {
     "data": {
      "text/plain": [
       "11648"
      ]
     },
     "execution_count": 23,
     "metadata": {},
     "output_type": "execute_result"
    }
   ],
   "source": [
    "len(data) # Quantidade de pedidos"
   ]
  },
  {
   "cell_type": "code",
   "execution_count": 24,
   "id": "4dcce91b-9fd5-40f8-9963-58eb5992a5a7",
   "metadata": {},
   "outputs": [
    {
     "data": {
      "text/plain": [
       "10887"
      ]
     },
     "execution_count": 24,
     "metadata": {},
     "output_type": "execute_result"
    }
   ],
   "source": [
    "# Quantidade de pedidos unicos - usando como referencia o numero da ordem do pedido\n",
    "mod_data = data.drop_duplicates(subset=['Order Number'])\n",
    "len(mod_data)"
   ]
  },
  {
   "cell_type": "code",
   "execution_count": 25,
   "id": "6546d5da-cb68-49ac-b309-03737d7a8aba",
   "metadata": {},
   "outputs": [
    {
     "data": {
      "text/html": [
       "<div>\n",
       "<style scoped>\n",
       "    .dataframe tbody tr th:only-of-type {\n",
       "        vertical-align: middle;\n",
       "    }\n",
       "\n",
       "    .dataframe tbody tr th {\n",
       "        vertical-align: top;\n",
       "    }\n",
       "\n",
       "    .dataframe thead th {\n",
       "        text-align: right;\n",
       "    }\n",
       "</style>\n",
       "<table border=\"1\" class=\"dataframe\">\n",
       "  <thead>\n",
       "    <tr style=\"text-align: right;\">\n",
       "      <th></th>\n",
       "      <th>Store Name</th>\n",
       "      <th>ano</th>\n",
       "      <th>Order Number</th>\n",
       "    </tr>\n",
       "  </thead>\n",
       "  <tbody>\n",
       "    <tr>\n",
       "      <th>0</th>\n",
       "      <td>Mercado Marisol</td>\n",
       "      <td>2022</td>\n",
       "      <td>1093</td>\n",
       "    </tr>\n",
       "    <tr>\n",
       "      <th>1</th>\n",
       "      <td>Mercado Marisol</td>\n",
       "      <td>2023</td>\n",
       "      <td>1089</td>\n",
       "    </tr>\n",
       "    <tr>\n",
       "      <th>2</th>\n",
       "      <td>Mercado Preço Baixo</td>\n",
       "      <td>2022</td>\n",
       "      <td>1721</td>\n",
       "    </tr>\n",
       "    <tr>\n",
       "      <th>3</th>\n",
       "      <td>Mercado Preço Baixo</td>\n",
       "      <td>2023</td>\n",
       "      <td>1552</td>\n",
       "    </tr>\n",
       "    <tr>\n",
       "      <th>4</th>\n",
       "      <td>Super Baratão</td>\n",
       "      <td>2022</td>\n",
       "      <td>2894</td>\n",
       "    </tr>\n",
       "    <tr>\n",
       "      <th>5</th>\n",
       "      <td>Super Baratão</td>\n",
       "      <td>2023</td>\n",
       "      <td>2537</td>\n",
       "    </tr>\n",
       "  </tbody>\n",
       "</table>\n",
       "</div>"
      ],
      "text/plain": [
       "            Store Name   ano  Order Number\n",
       "0      Mercado Marisol  2022          1093\n",
       "1      Mercado Marisol  2023          1089\n",
       "2  Mercado Preço Baixo  2022          1721\n",
       "3  Mercado Preço Baixo  2023          1552\n",
       "4        Super Baratão  2022          2894\n",
       "5        Super Baratão  2023          2537"
      ]
     },
     "execution_count": 25,
     "metadata": {},
     "output_type": "execute_result"
    }
   ],
   "source": [
    "mod_data2 = mod_data.groupby(by=['Store Name', 'ano'])['Order Number'].count().reset_index()\n",
    "mod_data2"
   ]
  },
  {
   "cell_type": "code",
   "execution_count": 26,
   "id": "a1f67efc-0a20-41a0-a1ec-1f8455c9c48f",
   "metadata": {},
   "outputs": [
    {
     "data": {
      "text/html": [
       "<div>\n",
       "<style scoped>\n",
       "    .dataframe tbody tr th:only-of-type {\n",
       "        vertical-align: middle;\n",
       "    }\n",
       "\n",
       "    .dataframe tbody tr th {\n",
       "        vertical-align: top;\n",
       "    }\n",
       "\n",
       "    .dataframe thead th {\n",
       "        text-align: right;\n",
       "    }\n",
       "</style>\n",
       "<table border=\"1\" class=\"dataframe\">\n",
       "  <thead>\n",
       "    <tr style=\"text-align: right;\">\n",
       "      <th></th>\n",
       "      <th>Store Name</th>\n",
       "      <th>ano</th>\n",
       "      <th>Order Number</th>\n",
       "      <th>% var</th>\n",
       "    </tr>\n",
       "  </thead>\n",
       "  <tbody>\n",
       "    <tr>\n",
       "      <th>0</th>\n",
       "      <td>Mercado Marisol</td>\n",
       "      <td>2022</td>\n",
       "      <td>1093</td>\n",
       "      <td>NaN</td>\n",
       "    </tr>\n",
       "    <tr>\n",
       "      <th>1</th>\n",
       "      <td>Mercado Marisol</td>\n",
       "      <td>2023</td>\n",
       "      <td>1089</td>\n",
       "      <td>-0.365965</td>\n",
       "    </tr>\n",
       "    <tr>\n",
       "      <th>2</th>\n",
       "      <td>Mercado Preço Baixo</td>\n",
       "      <td>2022</td>\n",
       "      <td>1721</td>\n",
       "      <td>NaN</td>\n",
       "    </tr>\n",
       "    <tr>\n",
       "      <th>3</th>\n",
       "      <td>Mercado Preço Baixo</td>\n",
       "      <td>2023</td>\n",
       "      <td>1552</td>\n",
       "      <td>-9.819872</td>\n",
       "    </tr>\n",
       "    <tr>\n",
       "      <th>4</th>\n",
       "      <td>Super Baratão</td>\n",
       "      <td>2022</td>\n",
       "      <td>2894</td>\n",
       "      <td>NaN</td>\n",
       "    </tr>\n",
       "    <tr>\n",
       "      <th>5</th>\n",
       "      <td>Super Baratão</td>\n",
       "      <td>2023</td>\n",
       "      <td>2537</td>\n",
       "      <td>-12.335867</td>\n",
       "    </tr>\n",
       "  </tbody>\n",
       "</table>\n",
       "</div>"
      ],
      "text/plain": [
       "            Store Name   ano  Order Number      % var\n",
       "0      Mercado Marisol  2022          1093        NaN\n",
       "1      Mercado Marisol  2023          1089  -0.365965\n",
       "2  Mercado Preço Baixo  2022          1721        NaN\n",
       "3  Mercado Preço Baixo  2023          1552  -9.819872\n",
       "4        Super Baratão  2022          2894        NaN\n",
       "5        Super Baratão  2023          2537 -12.335867"
      ]
     },
     "execution_count": 26,
     "metadata": {},
     "output_type": "execute_result"
    }
   ],
   "source": [
    "mod_data2['% var'] = mod_data2.groupby(by=['Store Name'])['Order Number'].pct_change() * 100\n",
    "mod_data2"
   ]
  },
  {
   "cell_type": "code",
   "execution_count": null,
   "id": "d98c6dd6-7aeb-4331-baa3-6d1815fe2549",
   "metadata": {},
   "outputs": [],
   "source": []
  }
 ],
 "metadata": {
  "kernelspec": {
   "display_name": "Python 3 (ipykernel)",
   "language": "python",
   "name": "python3"
  },
  "language_info": {
   "codemirror_mode": {
    "name": "ipython",
    "version": 3
   },
   "file_extension": ".py",
   "mimetype": "text/x-python",
   "name": "python",
   "nbconvert_exporter": "python",
   "pygments_lexer": "ipython3",
   "version": "3.7.0"
  }
 },
 "nbformat": 4,
 "nbformat_minor": 5
}
